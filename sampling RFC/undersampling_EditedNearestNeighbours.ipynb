{
 "cells": [
  {
   "cell_type": "code",
   "execution_count": 1,
   "metadata": {},
   "outputs": [],
   "source": [
    "from sklearn.ensemble import RandomForestClassifier\n",
    "from imblearn.under_sampling import EditedNearestNeighbours\n",
    "from sklearn.metrics import roc_auc_score\n",
    "from sklearn.metrics import accuracy_score\n",
    "from sklearn.metrics import precision_score\n",
    "from sklearn.metrics import recall_score\n",
    "from sklearn.metrics import f1_score\n",
    "from sklearn.metrics import fbeta_score\n",
    "from collections import Counter\n",
    "from sklearn import metrics\n",
    "import pandas as pd"
   ]
  },
  {
   "cell_type": "code",
   "execution_count": 2,
   "metadata": {},
   "outputs": [
    {
     "name": "stdout",
     "output_type": "stream",
     "text": [
      "(4481441, 22)\n",
      "(4481441,)\n",
      "(1920618, 22)\n",
      "(1920618,)\n",
      "Original training dataset shape Counter({0: 4480444, 1: 997})\n"
     ]
    }
   ],
   "source": [
    "train_csv = '../../dataset/train_N10.csv'\n",
    "test_csv = '../../dataset/test_N10.csv'\n",
    "\n",
    "train = pd.read_csv(train_csv)\n",
    "test = pd.read_csv(test_csv)\n",
    "\n",
    "x_train = train.drop(columns = ['osm_id', 'class'])\n",
    "y_train = train['class']\n",
    "\n",
    "print(x_train.shape)\n",
    "print(y_train.shape)\n",
    "\n",
    "x_test = test.drop(columns = ['osm_id', 'class'])\n",
    "y_test = test['class']\n",
    "\n",
    "print(x_test.shape)\n",
    "print(y_test.shape)\n",
    "\n",
    "print('Original training dataset shape %s' % Counter(y_train))"
   ]
  },
  {
   "cell_type": "code",
   "execution_count": 3,
   "metadata": {},
   "outputs": [
    {
     "name": "stdout",
     "output_type": "stream",
     "text": [
      "sampling_strategy=auto\n",
      "Resampled dataset shape Counter({0: 4477991, 1: 997})\n",
      "Training started\n",
      "Making Predictions\n",
      "AUC Score:\n",
      "0.5690285753882701\n",
      "Accuracy Score\n",
      "0.9994444496511019\n",
      "Precision Score\n",
      "0.07591623036649214\n",
      "Recall Score\n",
      "0.13842482100238662\n",
      "f1 Score\n",
      "0.09805579036348266\n",
      "f1.5 Score\n",
      "0.11044382598505931\n",
      "f2 Score\n",
      "0.11885245901639344\n"
     ]
    }
   ],
   "source": [
    "print(\"sampling_strategy=auto\")\n",
    "\n",
    "enn = EditedNearestNeighbours()\n",
    "\n",
    "x_res, y_res = enn.fit_resample(x_train, y_train)\n",
    "\n",
    "print('Resampled dataset shape %s' % Counter(y_res))\n",
    "\n",
    "clf = RandomForestClassifier()\n",
    "\n",
    "print(\"Training started\")\n",
    "clf.fit(x_res, y_res)\n",
    "\n",
    "print(\"Making Predictions\")\n",
    "y_pred = clf.predict(x_test)\n",
    "\n",
    "print(\"AUC Score:\")\n",
    "print(roc_auc_score(y_test, y_pred))\n",
    "\n",
    "print(\"Accuracy Score\")\n",
    "print(accuracy_score(y_test, y_pred))\n",
    "\n",
    "print(\"Precision Score\")\n",
    "print(precision_score(y_test, y_pred))\n",
    "\n",
    "print(\"Recall Score\")\n",
    "print(recall_score(y_test, y_pred))\n",
    "\n",
    "print(\"f1 Score\")\n",
    "print(f1_score(y_test, y_pred))\n",
    "\n",
    "print(\"f1.5 Score\")\n",
    "print(fbeta_score(y_test, y_pred, beta=1.5, pos_label=1))\n",
    "\n",
    "print(\"f2 Score\")\n",
    "print(fbeta_score(y_test, y_pred, beta=2, pos_label=1))"
   ]
  },
  {
   "cell_type": "code",
   "execution_count": null,
   "metadata": {},
   "outputs": [],
   "source": []
  }
 ],
 "metadata": {
  "kernelspec": {
   "display_name": "Python 3",
   "language": "python",
   "name": "python3"
  },
  "language_info": {
   "codemirror_mode": {
    "name": "ipython",
    "version": 3
   },
   "file_extension": ".py",
   "mimetype": "text/x-python",
   "name": "python",
   "nbconvert_exporter": "python",
   "pygments_lexer": "ipython3",
   "version": "3.8.5"
  }
 },
 "nbformat": 4,
 "nbformat_minor": 4
}
